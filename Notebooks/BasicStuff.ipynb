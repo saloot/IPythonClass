{
 "metadata": {
  "name": "",
  "signature": "sha256:282d4da399d4e49897dc79cb7feb7f2c8b2f0d90560b35232a1f7df93a8241cc"
 },
 "nbformat": 3,
 "nbformat_minor": 0,
 "worksheets": [
  {
   "cells": [
    {
     "cell_type": "heading",
     "level": 1,
     "metadata": {},
     "source": [
      "Introduction"
     ]
    },
    {
     "cell_type": "markdown",
     "metadata": {},
     "source": [
      "In this notebook, we learn how to work with different features of the notebook such as executing code, writing comments, working with mark down and so on."
     ]
    },
    {
     "cell_type": "markdown",
     "metadata": {},
     "source": [
      "But let's start with *cells*."
     ]
    },
    {
     "cell_type": "code",
     "collapsed": false,
     "input": [],
     "language": "python",
     "metadata": {},
     "outputs": []
    }
   ],
   "metadata": {}
  }
 ]
}