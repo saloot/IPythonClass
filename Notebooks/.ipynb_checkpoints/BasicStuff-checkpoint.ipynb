{
 "metadata": {
  "name": "",
  "signature": "sha256:503bc4b12435d3dbb7a1791873bcd4e98910982997bd942b9a927a228c50b73e"
 },
 "nbformat": 3,
 "nbformat_minor": 0,
 "worksheets": []
}