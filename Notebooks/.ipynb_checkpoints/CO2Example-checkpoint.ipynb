{
 "metadata": {
  "name": "",
  "signature": "sha256:11637175edb6895a4c39f84a88c338fe7880fe219fffa937e701912b4478db18"
 },
 "nbformat": 3,
 "nbformat_minor": 0,
 "worksheets": [
  {
   "cells": [
    {
     "cell_type": "heading",
     "level": 1,
     "metadata": {},
     "source": [
      "Introduction"
     ]
    },
    {
     "cell_type": "markdown",
     "metadata": {},
     "source": [
      "This notebook shows a simple example on how to start using IPython Notebooks. \n",
      "\n",
      "We start from basic stuff, namely, loading your data, working with arrays and so on.\n",
      "\n",
      "Then, we show you how to make your notebook a bit more interactive by giving the user the freedom to play with some parameters.\n",
      "\n",
      "Finally, we show you how you can publish your notebook on Github so that it can be shared with, for instance, your colleagues or your students."
     ]
    },
    {
     "cell_type": "heading",
     "level": 2,
     "metadata": {},
     "source": [
      "About the example"
     ]
    },
    {
     "cell_type": "markdown",
     "metadata": {},
     "source": [
      "To make the notebook more coherent, we have selected a simple example that uses real data about a very serious issue of our time: **global warming**.\n",
      "\n",
      "We assume that you have recently published a paper on how *the amount of CO2* released into the atmoshpehere is correlated with *oceans' global heat content*. We assume that you have analyzed the data, published it in a paper [here](paper_link) and at this point would like to share the code with your colleagues. \n",
      "\n",
      "Let's get started then!"
     ]
    },
    {
     "cell_type": "heading",
     "level": 1,
     "metadata": {},
     "source": [
      "Loading the Data"
     ]
    },
    {
     "cell_type": "markdown",
     "metadata": {},
     "source": [
      "We first start by loading the data. We assume that the data is stored in a file called `CO2Data.csv` in the `/Data/` folder."
     ]
    },
    {
     "cell_type": "markdown",
     "metadata": {},
     "source": [
      "Here's a snapshot of the CSV file."
     ]
    },
    {
     "cell_type": "markdown",
     "metadata": {},
     "source": [
      "In short, our csv file has has *14* \"columns\" that contain the data we are interested in. These columns that we are interested in correspond to\n",
      "\n",
      "1. Mauna Loa: the amount of CO2 measured at the first location (in ppm)\n",
      "2. CO2 Dates: the dates when CO2 amount was measured in ppm\n",
      "3. South Pole: the amount of CO2 measured at the second location (in ppm)\n",
      "4. Heat content: oceans' heat content (in 10^22 J)\n",
      "5. Heat Content Dates: the dates where amount of heat content is measured\n",
      "6. +2 Standard Error: standard deviation for the heat content\n",
      "7. -2 Standard Error: standard deviation for the heat content\n",
      "8. Temperature Anomaly: the deviation in the temperature \n",
      "9. Temperature Dates: the dates where heat content was measured\n",
      "\n",
      "Source: <a href=\"http://scrippsco2.ucsd.edu/\">Scripps CO<sub>2</sub></a><br><a href=\"http://www.carbonbrief.org/blog/2013/09/ipcc-six-graphs-that-explain-how-the-climate-is-changing/\">The Carbon Brief</a> & <a href=\"http://www.economist.com/blogs/graphicdetail/2012/05/daily-chart-1\">The Economist</a>"
     ]
    },
    {
     "cell_type": "heading",
     "level": 3,
     "metadata": {},
     "source": [
      "Initialization"
     ]
    },
    {
     "cell_type": "markdown",
     "metadata": {},
     "source": [
      "We start by importing the necessary libraries and initializing our data variables"
     ]
    },
    {
     "cell_type": "code",
     "collapsed": false,
     "input": [
      "import csv                                    # Import the necessary library to work with csv files                              "
     ],
     "language": "python",
     "metadata": {},
     "outputs": [],
     "prompt_number": 55
    },
    {
     "cell_type": "markdown",
     "metadata": {},
     "source": [
      "Now the command below creates an *empty* dcitionaries whose *keys* match those of our csv file. \n",
      "\n",
      "This will become handy since we want to organize our data into columns later."
     ]
    },
    {
     "cell_type": "code",
     "collapsed": false,
     "input": [
      "data_entries = {'Heat Content':[],\n",
      "                'Mauna Loa':[],\n",
      "                'CO2 Dates':[],\n",
      "                'South Pole':[],\n",
      "                'Heat Content Dates':[],\n",
      "                '+2 Standard Error':[],\n",
      "                '-2 Standard Error':[],\n",
      "                'Temperature Anomaly':[],\n",
      "                'Temperature Dates':[],\n",
      "                'trace6':[],\n",
      "                'trace7':[],\n",
      "                'trace8':[],\n",
      "                'trace9':[],\n",
      "                'trace10':[]}"
     ],
     "language": "python",
     "metadata": {},
     "outputs": [],
     "prompt_number": 81
    },
    {
     "cell_type": "heading",
     "level": 3,
     "metadata": {},
     "source": [
      "Reading the Data"
     ]
    },
    {
     "cell_type": "markdown",
     "metadata": {},
     "source": [
      "We now load the columns' data from the csv file into the *data_entries* variable. "
     ]
    },
    {
     "cell_type": "code",
     "collapsed": false,
     "input": [
      "data_file_name = './Data/CO2Data.csv'\n",
      "with open(data_file_name, 'rb') as f:\n",
      "    reader = csv.DictReader (f)\n",
      "    for line in reader:\n",
      "        for item in line:\n",
      "            if 'Dates' not in item:\n",
      "                if line[item]:\n",
      "                    data_entries[item].append(float(line[item]))\n",
      "            else:\n",
      "                if line[item]:\n",
      "                    data_entries[item].append(line[item])\n",
      "                    #data_entries[item].append(int(line[item][0:4]))"
     ],
     "language": "python",
     "metadata": {},
     "outputs": [],
     "prompt_number": 82
    },
    {
     "cell_type": "markdown",
     "metadata": {},
     "source": [
      "To make sure that we have importted the data correctly, let's print the first 8 dates when the CO2 amount was measured."
     ]
    },
    {
     "cell_type": "code",
     "collapsed": false,
     "input": [
      "print data_entries['CO2 Dates'][0:8]"
     ],
     "language": "python",
     "metadata": {},
     "outputs": [
      {
       "output_type": "stream",
       "stream": "stdout",
       "text": [
        "['1958-03-01', '1958-04-01', '1958-05-01', '1958-06-01', '1958-07-01', '1958-08-01', '1958-09-01', '1958-10-01']\n"
       ]
      }
     ],
     "prompt_number": 83
    },
    {
     "cell_type": "heading",
     "level": 1,
     "metadata": {},
     "source": [
      "Basic Plots"
     ]
    },
    {
     "cell_type": "markdown",
     "metadata": {},
     "source": [
      "Let's start with our first plot, namely, *global ocean heat content* as a matter of time.\n",
      "\n",
      "We start by import *matplotlib*, a Python library that handles plots elegantly."
     ]
    },
    {
     "cell_type": "code",
     "collapsed": false,
     "input": [
      "import matplotlib.pyplot as plt                # Import the necessary library to plot results"
     ],
     "language": "python",
     "metadata": {},
     "outputs": [],
     "prompt_number": 61
    },
    {
     "cell_type": "markdown",
     "metadata": {},
     "source": [
      "We then make sure that plots are displayed within the cells and adjust their size."
     ]
    },
    {
     "cell_type": "code",
     "collapsed": false,
     "input": [
      "%matplotlib inline  \n",
      "plt.rcParams['figure.figsize'] = (16.0, 10.0)"
     ],
     "language": "python",
     "metadata": {},
     "outputs": [],
     "prompt_number": 99
    },
    {
     "cell_type": "markdown",
     "metadata": {},
     "source": [
      "It is time to plot our first result. We first re-organize our x-axis dates to only contain the years."
     ]
    },
    {
     "cell_type": "code",
     "collapsed": false,
     "input": [
      "years = []\n",
      "for item in data_entries['Heat Content Dates']:\n",
      "    years.append(int(item[0:4]))"
     ],
     "language": "python",
     "metadata": {},
     "outputs": [],
     "prompt_number": 94
    },
    {
     "cell_type": "markdown",
     "metadata": {},
     "source": [
      "Then, prepare the axis labels and plot title."
     ]
    },
    {
     "cell_type": "code",
     "collapsed": false,
     "input": [
      "fig = plt.figure()\n",
      "fig.suptitle('Global Ocean Heat Content', fontsize=20)\n",
      "#plt.xlabel('Year', fontsize=18)\n",
      "plt.ylabel('Heat Content ($10^{22}$J)', fontsize=16)\n",
      "\n",
      "plt.plot(years,data_entries['Heat Content'])\n",
      "plt.show()"
     ],
     "language": "python",
     "metadata": {},
     "outputs": [
      {
       "metadata": {},
       "output_type": "display_data",
       "png": "[encoded data removed]",
       "text": [
        "<matplotlib.figure.Figure at 0x107e92950>"
       ]
      }
     ],
     "prompt_number": 103
    },
    {
     "cell_type": "markdown",
     "metadata": {},
     "source": [
      "Finally, save the figure if you want."
     ]
    },
    {
     "cell_type": "code",
     "collapsed": false,
     "input": [
      "fig.savefig('./Results/HeatContent_vs_Year.png')"
     ],
     "language": "python",
     "metadata": {},
     "outputs": [],
     "prompt_number": 101
    },
    {
     "cell_type": "code",
     "collapsed": false,
     "input": [],
     "language": "python",
     "metadata": {},
     "outputs": []
    }
   ],
   "metadata": {}
  }
 ]
}