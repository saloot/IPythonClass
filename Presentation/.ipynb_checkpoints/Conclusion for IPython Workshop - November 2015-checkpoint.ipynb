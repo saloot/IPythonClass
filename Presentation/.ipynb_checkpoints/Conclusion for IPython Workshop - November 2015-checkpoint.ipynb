{
 "metadata": {
  "celltoolbar": "Slideshow",
  "name": "",
  "signature": "sha256:95ecc96fc1735e6a1d99418767aaa7083ac7ed9cac907b74711008f92c8a2dc2"
 },
 "nbformat": 3,
 "nbformat_minor": 0,
 "worksheets": [
  {
   "cells": [
    {
     "cell_type": "markdown",
     "metadata": {
      "slideshow": {
       "slide_type": "slide"
      }
     },
     "source": [
      "# Concluding Remarks"
     ]
    },
    {
     "cell_type": "markdown",
     "metadata": {
      "slideshow": {
       "slide_type": "subslide"
      }
     },
     "source": [
      "## IPython Notebooks"
     ]
    },
    {
     "cell_type": "markdown",
     "metadata": {
      "slideshow": {
       "slide_type": "fragment"
      }
     },
     "source": [
      "* A great tool to transform your code"
     ]
    },
    {
     "cell_type": "heading",
     "level": 2,
     "metadata": {
      "slideshow": {
       "slide_type": "subslide"
      }
     },
     "source": [
      "The Flow of Reproducibility"
     ]
    },
    {
     "cell_type": "markdown",
     "metadata": {
      "slideshow": {
       "slide_type": "fragment"
      }
     },
     "source": [
      "<div style=\"width: 15%;margin-right:20px;float:left;margin-top:200px;\">\n",
      "<img src=\"./Figures/software.jpg\" alt=\"image from PhD Comics\" style=\"width: 100%;float:left\"/>\n",
      "</div>"
     ]
    },
    {
     "cell_type": "markdown",
     "metadata": {
      "slideshow": {
       "slide_type": "fragment"
      }
     },
     "source": [
      "<div style=\"width: 7%;margin-left:145px;margin-top:-130px;\">\n",
      "<img src=\"./Figures/plussign.png\" alt=\"image from PhD Comics\" style=\"width: 100%;\"/>\n",
      "</div>"
     ]
    },
    {
     "cell_type": "markdown",
     "metadata": {
      "slideshow": {
       "slide_type": "fragment"
      }
     },
     "source": [
      "<div style=\"width: 22%;margin-left:230px;margin-top:-180px;\">\n",
      "<img src=\"./Figures/ipython-thumb.png\" alt=\"image from PhD Comics\" style=\"width: 100%;\"/>\n",
      "</div>"
     ]
    },
    {
     "cell_type": "markdown",
     "metadata": {
      "slideshow": {
       "slide_type": "fragment"
      }
     },
     "source": [
      "<div style=\"width: 7%;margin-left:430px;margin-top:-160px;\">\n",
      "<img src=\"./Figures/arrow_right.png\" style=\"width: 100%;\"/>\n",
      "</div>"
     ]
    },
    {
     "cell_type": "markdown",
     "metadata": {
      "slideshow": {
       "slide_type": "fragment"
      }
     },
     "source": [
      "<div style=\"width: 20%;margin-left:510px;margin-top:-240px;\">\n",
      "<img src=\"./Figures/Octocat.png\" alt=\"image from PhD Comics\" style=\"width: 100%;\"/>\n",
      "</div>"
     ]
    },
    {
     "cell_type": "markdown",
     "metadata": {
      "slideshow": {
       "slide_type": "fragment"
      }
     },
     "source": [
      "<div style=\"width: 15%;margin-left:255px;margin-top:-440px;\">\n",
      "<img src=\"./Figures/science-paper.jpg\" alt=\"image from PhD Comics\" style=\"width: 100%;\"/>\n",
      "</div>"
     ]
    },
    {
     "cell_type": "markdown",
     "metadata": {
      "slideshow": {
       "slide_type": "fragment"
      }
     },
     "source": [
      "<div style=\"width: 15%;margin-left:250px;margin-top:-140px;\">\n",
      "<img src=\"./Figures/database.png\" alt=\"image from PhD Comics\" style=\"width: 100%;\"/>\n",
      "</div>"
     ]
    },
    {
     "cell_type": "markdown",
     "metadata": {
      "slideshow": {
       "slide_type": "fragment"
      }
     },
     "source": [
      "<div style=\"width: 7%;margin-left:430px;margin-top:-360px;transform: rotate(30deg)\">\n",
      "<img src=\"./Figures/arrow_right.png\" style=\"width: 100%;\"/>\n",
      "</div>"
     ]
    },
    {
     "cell_type": "markdown",
     "metadata": {
      "slideshow": {
       "slide_type": "fragment"
      }
     },
     "source": [
      "<div style=\"width: 7%;margin-left:430px;margin-top:-180px;transform: rotate(-30deg)\">\n",
      "<img src=\"./Figures/arrow_right.png\" style=\"width: 100%;\"/>\n",
      "</div>"
     ]
    },
    {
     "cell_type": "markdown",
     "metadata": {
      "slideshow": {
       "slide_type": "fragment"
      }
     },
     "source": [
      "<div style=\"width: 7%;margin-left:680px;margin-top:-310px;\">\n",
      "<img src=\"./Figures/arrow_right.png\" style=\"width: 100%;\"/>\n",
      "</div>"
     ]
    },
    {
     "cell_type": "markdown",
     "metadata": {
      "slideshow": {
       "slide_type": "fragment"
      }
     },
     "source": [
      "<div style=\"width: 40%;margin-left:750px;margin-top:-480px;\">\n",
      "<img src=\"./Figures/share-science.png\" style=\"width: 100%;\"/>\n",
      "</div>"
     ]
    },
    {
     "cell_type": "code",
     "collapsed": false,
     "input": [],
     "language": "python",
     "metadata": {},
     "outputs": []
    }
   ],
   "metadata": {}
  }
 ]
}