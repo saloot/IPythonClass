{
 "cells": [
  {
   "cell_type": "markdown",
   "metadata": {
    "slideshow": {
     "slide_type": "slide"
    }
   },
   "source": [
    "# Reproducible Research using IPython Interactive Publications\n",
    "\n",
    "Robin Scheibler and Amir Hesam Salavati\n",
    "<br>\n",
    "<span style=\"font-size:0.75em;\">Laboratory of Audiovisual Communications (LCAV), EPFL</span>\n",
    "\n",
    "<div style=\"float:right;\">\n",
    "3 November 2015\n",
    "</div>"
   ]
  },
  {
   "cell_type": "markdown",
   "metadata": {
    "slideshow": {
     "slide_type": "slide"
    }
   },
   "source": [
    "## Transforming this..."
   ]
  },
  {
   "cell_type": "markdown",
   "metadata": {
    "slideshow": {
     "slide_type": "subslide"
    }
   },
   "source": [
    "<div style=\"color:#5C5858;width:95%;border: 1px solid;padding: 15px 15px 15px 15px;border-radius: 4px;\">\n",
    "from scipy.io import loadmat, wavfile\n",
    "<br>\n",
    "<br>\n",
    "from IPython.lib.display import Audio\n",
    "<br>\n",
    "<br>\n",
    "r,speech = wavfile.read('Data/german_speech_44100.wav')\n",
    "<br>\n",
    "<br>\n",
    "_,rir = wavfile.read('Data/RIRs.wav')\n",
    "<br>\n",
    "<br>\n",
    "print('Speech')\n",
    "<br>\n",
    "<br>\n",
    "display(Audio(data=speech, rate=r))\n",
    "<br>\n",
    "<br>\n",
    "print('Room Impulse Response')\n",
    "<br>\n",
    "<br>\n",
    "display(Audio(data=rir[:,0], rate=r))\n",
    "</div>"
   ]
  },
  {
   "cell_type": "markdown",
   "metadata": {
    "slideshow": {
     "slide_type": "subslide"
    }
   },
   "source": [
    "## Into this..."
   ]
  },
  {
   "cell_type": "markdown",
   "metadata": {
    "slideshow": {
     "slide_type": "fragment"
    }
   },
   "source": [
    "<iframe width=\"1800\" height=\"600\" src=\"https://www.youtube.com/embed/vMrj2TYGSiY?start=20&autoplay=1\" frameborder=\"0\" allowfullscreen></iframe>"
   ]
  },
  {
   "cell_type": "markdown",
   "metadata": {
    "slideshow": {
     "slide_type": "slide"
    }
   },
   "source": [
    "## Outline"
   ]
  },
  {
   "cell_type": "markdown",
   "metadata": {
    "slideshow": {
     "slide_type": "fragment"
    }
   },
   "source": [
    "<table style=\"border: 0px solid white;width:100%;\">\n",
    "<tr style=\"border: 0px solid white;width:100%;\">\n",
    "<td style=\"width:75%;border: 0px solid white;\"> <ul><li>Troubleshooting</li></ul>  </td>\n",
    "<td style=\"width:25%;border: 0px solid white;\"> 5 Min</td>\n",
    "</tr>\n",
    "</table>"
   ]
  },
  {
   "cell_type": "markdown",
   "metadata": {
    "slideshow": {
     "slide_type": "fragment"
    }
   },
   "source": [
    "<table style=\"border: 0px solid white;width:100%;\">\n",
    "<tr style=\"border: 0px solid white;width:100%;\">\n",
    "<td style=\"width:75%;border: 0px solid white;\"> <ul><li>Reproducible Research: What, Why and How</li></ul>  </td>\n",
    "<td style=\"width:25%;border: 0px solid white;\"> 20 Min</td>\n",
    "</tr>\n",
    "</table>"
   ]
  },
  {
   "cell_type": "markdown",
   "metadata": {
    "slideshow": {
     "slide_type": "fragment"
    }
   },
   "source": [
    "<table style=\"border: 0px solid white;width:100%;\">\n",
    "<tr style=\"border: 0px solid white;width:100%;\">\n",
    "<td style=\"width:75%;border: 0px solid white;\"> <ul><li>Introduction to IPython Notebooks Features</li></ul> </td>\n",
    "<td style=\"width:25%;border: 0px solid white;\"> 30 Min</td>\n",
    "</tr>\n",
    "</table>"
   ]
  },
  {
   "cell_type": "markdown",
   "metadata": {
    "slideshow": {
     "slide_type": "fragment"
    }
   },
   "source": [
    "<table style=\"border: 0px solid white;width:100%;\">\n",
    "<tr style=\"border: 0px solid white;width:100%;\">\n",
    "<td style=\"width:75%;border: 0px solid white;\"> * IPython Notebooks for Reproducible Research  \n",
    "</td>\n",
    "<td style=\"width:25%;border: 0px solid white;\"> 30 Min</td>\n",
    "</tr>\n",
    "<tr style=\"border: 0px solid white;width:100%;\">\n",
    "<td style=\"width:75%;border: 0px solid white;\"> \n",
    "<ul><ul>\n",
    "<li>Github troubleshooting</li>\n",
    "<li>IPython Notebook for our papers</li>\n",
    "<li>Hosting notebooks on Github</li>\n",
    "<li>Github pages</li>\n",
    "</ul></ul>\n",
    "</tr>\n",
    "</table>"
   ]
  },
  {
   "cell_type": "markdown",
   "metadata": {
    "slideshow": {
     "slide_type": "fragment"
    }
   },
   "source": [
    "<table style=\"border: 0px solid white;width:100%;\">\n",
    "<tr style=\"border: 0px solid white;width:100%;\">\n",
    "<td style=\"width:75%;border: 0px solid white;\"> <ul><li>Final Q&A</li></ul>  </td>\n",
    "<td style=\"width:25%;border: 0px solid white;\"> 5 Min</td>\n",
    "</tr>\n",
    "</table>"
   ]
  },
  {
   "cell_type": "markdown",
   "metadata": {
    "slideshow": {
     "slide_type": "fragment"
    }
   },
   "source": [
    "<table style=\"border: 0px solid white;width:100%;\">\n",
    "<tr style=\"border: 0px solid white;width:100%;\">\n",
    "<td style=\"width:75%;border: 0px solid white;\"> <ul><li> Concluding remarks </li></ul> </td>\n",
    "<td style=\"width:25%;border: 0px solid white;\"> 10 Min</td>\n",
    "</tr>\n",
    "</table>"
   ]
  },
  {
   "cell_type": "markdown",
   "metadata": {
    "slideshow": {
     "slide_type": "subslide"
    }
   },
   "source": [
    "<p style=\"font-size:1.25em;\">\n",
    "This is an <span style=\"color:red;\">interactive</span> workshop.\n",
    "Please do not hesitate to interrupt WHENEVER your want!\n",
    "</p>"
   ]
  },
  {
   "cell_type": "markdown",
   "metadata": {
    "slideshow": {
     "slide_type": "slide"
    }
   },
   "source": [
    "## Reproducible Research"
   ]
  },
  {
   "cell_type": "markdown",
   "metadata": {
    "slideshow": {
     "slide_type": "fragment"
    }
   },
   "source": [
    "### <ul><li>What?</li></ul>"
   ]
  },
  {
   "cell_type": "markdown",
   "metadata": {
    "slideshow": {
     "slide_type": "fragment"
    }
   },
   "source": [
    "### <ul><li>Why?</li></ul>"
   ]
  },
  {
   "cell_type": "markdown",
   "metadata": {
    "slideshow": {
     "slide_type": "fragment"
    }
   },
   "source": [
    "### <ul><li>How?</li></ul>"
   ]
  },
  {
   "cell_type": "markdown",
   "metadata": {
    "slideshow": {
     "slide_type": "slide"
    }
   },
   "source": [
    "## What"
   ]
  },
  {
   "cell_type": "markdown",
   "metadata": {
    "slideshow": {
     "slide_type": "fragment"
    }
   },
   "source": [
    "<span style=\"color:#E5E4E2;\">“The term *<span style=\"color:#5C5858;\">reproducible research</span>* refers to the idea that the ultimate product of academic research is the paper along with the full computational environment used to produce the results in the paper such as the code, data, etc. that can be used to <span style=\"color:#FBB917;\">reproduce</span> the results and <span style=\"color:red;\">create new work</span> based on the research.\"</span>\n",
    "\n",
    "[wikipedia]\n"
   ]
  },
  {
   "cell_type": "markdown",
   "metadata": {
    "slideshow": {
     "slide_type": "skip"
    }
   },
   "source": [
    "## Advancement of Science"
   ]
  },
  {
   "cell_type": "markdown",
   "metadata": {
    "slideshow": {
     "slide_type": "fragment"
    }
   },
   "source": [
    "<img src=\"./Figures/Verifyability.png\" alt=\"image from economist\" style=\"width: 700px;margin-top:-40px;margin-left:125px;\"/>"
   ]
  },
  {
   "cell_type": "markdown",
   "metadata": {
    "slideshow": {
     "slide_type": "skip"
    }
   },
   "source": [
    "## Advancement of Science"
   ]
  },
  {
   "cell_type": "markdown",
   "metadata": {
    "slideshow": {
     "slide_type": "skip"
    }
   },
   "source": [
    "<img src=\"./Figures/advancementOFscience.jpg\" alt=\"image from PhD Comics\" style=\"width: 800px;\"/>"
   ]
  },
  {
   "cell_type": "markdown",
   "metadata": {
    "slideshow": {
     "slide_type": "slide"
    }
   },
   "source": [
    "## Different Requirements in Different Fields"
   ]
  },
  {
   "cell_type": "markdown",
   "metadata": {
    "slideshow": {
     "slide_type": "subslide"
    }
   },
   "source": [
    "## Mathematics\n",
    "<div style=\"width: 50%;margin-right:20px;float:right;\">\n",
    "<img src=\"./Figures/MathReproducibility.jpg\" alt=\"image from PhD Comics\" style=\"width: 100%;\"/>\n",
    "</div>\n",
    "<div style=\"width: 40%;margin-right:20px;float:left;margin-top:140px;\">\n",
    "<ul style=\"font-size:1.25em;\">\n",
    "<li> Clear theorems </li>\n",
    "<li style=\"margin-top:50px;\"> Complete proofs </li>\n",
    "</ul>\n",
    "\n",
    "</div>"
   ]
  },
  {
   "cell_type": "markdown",
   "metadata": {
    "slideshow": {
     "slide_type": "subslide"
    }
   },
   "source": [
    "## Computational Sciences\n",
    "<div style=\"width: 50%;margin-right:20px;float:right;\">\n",
    "<img src=\"./Figures/ReproducibilityComputational.png\" alt=\"\" style=\"width: 100%;\"/>\n",
    "</div>\n",
    "<div style=\"width: 40%;margin-right:20px;float:left;margin-top:140px;\">\n",
    "<ul style=\"font-size:1.25em;\">\n",
    "<li> Clear theorems </li>\n",
    "<li style=\"margin-top:50px;\"> Complete proofs </li>\n",
    "<li style=\"margin-top:50px;\"> Algorithm </li>\n",
    "<li style=\"margin-top:50px;\"> Simulation code </li>\n",
    "</ul>\n",
    "\n",
    "</div>\n",
    "\n"
   ]
  },
  {
   "cell_type": "markdown",
   "metadata": {
    "slideshow": {
     "slide_type": "subslide"
    }
   },
   "source": [
    "## Lab Sciences\n",
    "<div style=\"width: 50%;margin-right:20px;float:right;\">\n",
    "<img src=\"./Figures/Bacteria.png\" alt=\"\" style=\"width: 100%;\"/>\n",
    "</div>\n",
    "<div style=\"width: 40%;margin-right:20px;float:left;margin-top:140px;\">\n",
    "<ul style=\"font-size:1.25em;\">\n",
    "<li> Detailed method </li>\n",
    "<li style=\"margin-top:50px;\"> Lab Protocols </li>\n",
    "<li style=\"margin-top:50px;\"> Data </li>\n",
    "<li style=\"margin-top:50px;\"> Code </li>\n",
    "</ul>\n",
    "\n",
    "</div>\n"
   ]
  },
  {
   "cell_type": "markdown",
   "metadata": {
    "slideshow": {
     "slide_type": "slide"
    }
   },
   "source": [
    "# What is the Problem Then?"
   ]
  },
  {
   "cell_type": "markdown",
   "metadata": {
    "slideshow": {
     "slide_type": "fragment"
    }
   },
   "source": [
    "Research works seem to be \"difficult\" to reproduce!"
   ]
  },
  {
   "cell_type": "markdown",
   "metadata": {
    "slideshow": {
     "slide_type": "subslide"
    }
   },
   "source": [
    "### In an study done for *Nature* in 2012\n",
    "<h3 style=\"font-size:2em;margin-top:75px;margin-bottom:100px;\"> \n",
    "<span style=\"color:red;\">47 out of 53 </span> medical research papers were irreproducible.\n",
    "</h3>\n",
    "\n",
    "<p style=\"font-size:0.5em; color:grey;\">\n",
    "\\* Begley, C. G.; Ellis, L. M. (2012). \"Drug development: Raise standards for preclinical cancer research\". Nature 483 (7391): 531–533.\n",
    "</p>\n",
    "\n"
   ]
  },
  {
   "cell_type": "markdown",
   "metadata": {
    "slideshow": {
     "slide_type": "subslide"
    }
   },
   "source": [
    "### In another study in 2009\n",
    "<h3 style=\"font-size:2em;margin-top:75px;margin-bottom:100px;\"> \n",
    "<span style=\"color:red;\">10(+6) out of 18 </span> bioinformatic papers could not be reproduced completely\n",
    "\n",
    "</h3>\n",
    "\n",
    "<p style=\"font-size:0.5em; color:grey;\">\n",
    "\\* Ioannidis JPA, Allison DB, Ball CA, et al. Repeatability of published microarray gene expression analyses. Nat Genet 2009;41(2):149–55\n",
    "</p>\n",
    "\n"
   ]
  },
  {
   "cell_type": "markdown",
   "metadata": {
    "slideshow": {
     "slide_type": "subslide"
    }
   },
   "source": [
    "### In a study on the 134 papers of \"IEEE Transactions on Image Processing\" in 2004, it was found that\n",
    "<h3 style=\"font-size:2em;margin-top:75px;margin-bottom:100px;\"> \n",
    "<span style=\"color:red;\">Less than 9%  </span> of papers share their code.\n",
    "</h3>\n",
    "\n",
    "<p style=\"font-size:0.5em; color:grey;\">\n",
    "\\* Vandewalle, Patrick, Jelena Kovacevic, and Martin Vetterli. \"Reproducible research in signal processing.\" Signal Processing Magazine, IEEE 26.3 (2009): 37-47.\n",
    "</p>\n",
    "\n"
   ]
  },
  {
   "cell_type": "markdown",
   "metadata": {
    "slideshow": {
     "slide_type": "subslide"
    }
   },
   "source": [
    "## Possible Reasons"
   ]
  },
  {
   "cell_type": "markdown",
   "metadata": {
    "slideshow": {
     "slide_type": "fragment"
    }
   },
   "source": [
    "* Lack of space in papers"
   ]
  },
  {
   "cell_type": "markdown",
   "metadata": {
    "slideshow": {
     "slide_type": "fragment"
    }
   },
   "source": [
    "* It is difficult to combine text, code and figures"
   ]
  },
  {
   "cell_type": "markdown",
   "metadata": {
    "slideshow": {
     "slide_type": "fragment"
    }
   },
   "source": [
    "* <b style=\"color:#FBB917;\">It takes time!</b>"
   ]
  },
  {
   "cell_type": "markdown",
   "metadata": {
    "slideshow": {
     "slide_type": "slide"
    }
   },
   "source": [
    "# Why Should We Care Then?"
   ]
  },
  {
   "cell_type": "markdown",
   "metadata": {
    "slideshow": {
     "slide_type": "subslide"
    }
   },
   "source": [
    "## Why NOT?\n",
    "<div style=\"width: 50%;margin-right:20px;float:right;\">\n",
    "<img src=\"./Figures/baby-scientist.jpg\" alt=\"image from PhD Comics\" style=\"width: 80%;\"/>\n",
    "</div>\n",
    "<div style=\"width: 40%;margin-right:20px;float:left;margin-top:140px;\">\n",
    "<ul style=\"font-size:1.25em;\">\n",
    "<li> For the sake of science</li>\n",
    "<li style=\"margin-top:50px;\"> and our inner scientist </li>\n",
    "</ul>\n",
    "\n",
    "</div>"
   ]
  },
  {
   "cell_type": "markdown",
   "metadata": {
    "slideshow": {
     "slide_type": "subslide"
    }
   },
   "source": [
    "# Reproducibility Increases Visibility"
   ]
  },
  {
   "cell_type": "markdown",
   "metadata": {
    "slideshow": {
     "slide_type": "fragment"
    }
   },
   "source": [
    "### Multiple studies have shown that\n",
    "<div style=\"clear:both;margin-top:50px;\"> \n",
    "\n",
    "<ul style=\"font-size:1.15em;\">\n",
    "<li style=\"margin-top:20px;\"> Papers with shared data were cited about <span style=\"color:red;\">70%</span> more frequently [1].</li>\n",
    "</ul>"
   ]
  },
  {
   "cell_type": "markdown",
   "metadata": {
    "slideshow": {
     "slide_type": "fragment"
    }
   },
   "source": [
    "<ul style=\"font-size:1.25em;\">\n",
    "<li style=\"margin-top:20px;\"> Open access papers seems to be consitently cited more [2]. </li>\n",
    "\n",
    "</ul>"
   ]
  },
  {
   "cell_type": "markdown",
   "metadata": {
    "slideshow": {
     "slide_type": "fragment"
    }
   },
   "source": [
    "<ul style=\"font-size:1.25em;\">\n",
    "<li style=\"margin-top:20px;\"> Papers with code available are probably more cited than those without code [3]. </li>\n",
    "</ul>\n",
    "\n",
    "<p style=\"font-size:0.25em; color:grey;\">\n",
    "[1] Piwowar, H. a et al. Sharing detailed research data is associated with increased citation rate. PloS one. 2, (2007), 308.\n",
    "<br>\n",
    "[2] Antelman, Kristin. \"Do open-access articles have a greater research impact?.\" College & research libraries 65.5 (2004): 372-382.\n",
    "<br>\n",
    "[3] Vandewalle, Patrick, Jelena Kovacevic, and Martin Vetterli. \"Reproducible research in signal processing.\" Signal Processing Magazine, IEEE 26.3 (2009): 37-47.\n",
    "\n",
    "</p>\n"
   ]
  },
  {
   "cell_type": "markdown",
   "metadata": {
    "slideshow": {
     "slide_type": "skip"
    }
   },
   "source": [
    "### In a study in 2007 on microarray DNA research publications,\n",
    "<h3 style=\"font-size:2em;margin-top:75px;margin-bottom:30px;\"> \n",
    "Papers with shared data were cited about <span style=\"color:red;\">70%</span> more frequently.\n",
    "</h3>"
   ]
  },
  {
   "cell_type": "markdown",
   "metadata": {
    "slideshow": {
     "slide_type": "skip"
    }
   },
   "source": [
    "* 85 papers were studies\n",
    "* 41 shared their data\n",
    "\n",
    "### Those 41 took 85% of the aggregate citations\n",
    "\n",
    "<p style=\"font-size:0.5em; color:grey;margin-top:75px;\"\">\n",
    "\\* Piwowar, H. a et al. Sharing detailed research data is associated with increased citation rate. PloS one. 2, (2007), 308.\n",
    "</p>\n"
   ]
  },
  {
   "cell_type": "markdown",
   "metadata": {
    "slideshow": {
     "slide_type": "skip"
    }
   },
   "source": [
    "## Study 2: Effect of Open Access"
   ]
  },
  {
   "cell_type": "markdown",
   "metadata": {
    "slideshow": {
     "slide_type": "skip"
    }
   },
   "source": [
    "### In a study on the 134 papers of \"IEEE Transactions on Image Processing\" in 2004, it was found that\n",
    "<h3 style=\"font-size:2em;margin-top:25px;margin-bottom:40px;\"> \n",
    "Open access papers seems to be consitently cited more.\n",
    "</h3>\n",
    "\n",
    "<img src=\"./Figures/OpenAccessCitation.png\" alt=\"image from PhD Comics\" style=\"width: 80%;\"/>\n",
    "\n",
    "<p style=\"font-size:0.5em; color:grey;\">\n",
    "\\* Antelman, Kristin. \"Do open-access articles have a greater research impact?.\" College & research libraries 65.5 (2004): 372-382.\n",
    "\n",
    "</p>\n",
    "\n"
   ]
  },
  {
   "cell_type": "markdown",
   "metadata": {
    "slideshow": {
     "slide_type": "skip"
    }
   },
   "source": [
    "## Study 3: Effect of Reproducibility"
   ]
  },
  {
   "cell_type": "markdown",
   "metadata": {
    "slideshow": {
     "slide_type": "skip"
    }
   },
   "source": [
    "<h3 style=\"font-size:2em;margin-top:25px;margin-bottom:40px;\"> \n",
    "Papers with code available are probably more cited than those without code.\n",
    "</h3>\n",
    "\n",
    "<img src=\"./Figures/CitationReproducibilityLCAV.png\" alt=\"image from PhD Comics\" style=\"width: 70%;\"/>\n",
    "\n",
    "<p style=\"font-size:0.5em; color:grey;\">\n",
    "\\* Vandewalle, Patrick, Jelena Kovacevic, and Martin Vetterli. \"Reproducible research in signal processing.\" Signal Processing Magazine, IEEE 26.3 (2009): 37-47.\n",
    "\n",
    "</p>"
   ]
  },
  {
   "cell_type": "markdown",
   "metadata": {
    "slideshow": {
     "slide_type": "slide"
    }
   },
   "source": [
    "# It Might Result in Fruitful Collaborations"
   ]
  },
  {
   "cell_type": "markdown",
   "metadata": {
    "slideshow": {
     "slide_type": "fragment"
    }
   },
   "source": [
    "### Collaboration in Very Hard Problems"
   ]
  },
  {
   "cell_type": "markdown",
   "metadata": {
    "slideshow": {
     "slide_type": "fragment"
    }
   },
   "source": [
    "<h3 style=\"margin-top:25px;margin-bottom:40px;\"> \n",
    "A group of mathemtician collaboratively solved a very difficult problem in combinatorial geometry in a few weeks.\n",
    "</h3>\n",
    "\n",
    "<img src=\"./Figures/Polymath.jpg\" alt=\"image from PhD Comics\" style=\"width: 70%;\"/>\n",
    "\n",
    "<p style=\"font-size:0.5em; color:grey;\">\n",
    "\\* Gowers, Timothy, and Michael Nielsen. \"Massively collaborative mathematics.\" Nature 461.7266 (2009): 879-881.\n",
    "</p>"
   ]
  },
  {
   "cell_type": "markdown",
   "metadata": {
    "slideshow": {
     "slide_type": "subslide"
    }
   },
   "source": [
    "### Collaboration in Very Large Problems"
   ]
  },
  {
   "cell_type": "markdown",
   "metadata": {
    "slideshow": {
     "slide_type": "fragment"
    }
   },
   "source": [
    "<div style=\"width:45%;float:left;\">\n",
    "<h4> CERN ATLAS Project </h4>\n",
    "<img src=\"./Figures/CERNATLAS.jpeg\" alt=\"image from PhD Comics\" style=\"width: 100%;\"/>\n",
    "</div>\n",
    "\n",
    "<div style=\"width:45%;float:right;\">\n",
    "<h4 style=\"margin-left:50px;\"> Citizen Science </h4>\n",
    "<img src=\"./Figures/SafeCAst.jpg\" alt=\"image from PhD Comics\" style=\"width: 60%;\"/>\n",
    "</div>\n",
    "\n",
    "<p style=\"font-size:0.5em; color:grey;clear:both;\">\n",
    "\\* http://atlas.web.cern.ch/Atlas/Collaboration/\n",
    "<br>\n",
    "\\* http://safecast.org/\n",
    "</p>"
   ]
  },
  {
   "cell_type": "markdown",
   "metadata": {
    "slideshow": {
     "slide_type": "slide"
    }
   },
   "source": [
    "## Finally, you might soon have to!"
   ]
  },
  {
   "cell_type": "markdown",
   "metadata": {
    "slideshow": {
     "slide_type": "fragment"
    }
   },
   "source": [
    "### More and more journals require availability of data/code. \n",
    "<div style=\"margin-top:40px;\"> \n",
    "<div style=\"width:30%;float:left;margin-right:10px;\">\n",
    "<img src=\"./Figures/NPGLogo.JPG\" alt=\"\" style=\"width: 80%;\"/>\n",
    "</div>\n",
    "<div style=\"width:30%;float:left;margin-right:10px;\">\n",
    "<img src=\"./Figures/PlosOneLogo.png\" alt=\"\" style=\"width: 80%;\"/>\n",
    "</div>\n",
    "<div style=\"width:30%;float:left;\">\n",
    "<img src=\"./Figures/PNASLogo.jpg\" alt=\"\" style=\"width: 80%;\"/>\n",
    "</div>\n",
    "</div>"
   ]
  },
  {
   "cell_type": "markdown",
   "metadata": {
    "slideshow": {
     "slide_type": "fragment"
    }
   },
   "source": [
    "<div style=\"clear:both;margin-top:50px;\"> \n",
    "A recent study shows an increase of \n",
    "<br>\n",
    "<ul style=\"font-size:1.25em;\">\n",
    "<li style=\"margin-top:20px;\"> 16% in the number of data policies</li>\n",
    "<li style=\"margin-top:20px;\"> 30% increase in code policies </li>\n",
    "</ul>\n",
    "\n",
    "\n",
    "<p style=\"font-size:0.25em; color:grey;\">\n",
    "\\* Vandewalle, Patrick, Jelena Kovacevic, and Martin Vetterli. \"Reproducible research in signal processing.\" Signal Processing Magazine, IEEE 26.3 (2009): 37-47.\n",
    "\n",
    "</p>\n"
   ]
  },
  {
   "cell_type": "markdown",
   "metadata": {
    "slideshow": {
     "slide_type": "slide"
    }
   },
   "source": [
    "## How"
   ]
  },
  {
   "cell_type": "markdown",
   "metadata": {},
   "source": [
    "### Again, depends on the field"
   ]
  },
  {
   "cell_type": "markdown",
   "metadata": {
    "slideshow": {
     "slide_type": "fragment"
    }
   },
   "source": [
    "<ul style=\"font-size:1.25em;\">\n",
    "<li style=\"margin-top:20px;\"> All details in the paper</li>\n",
    "<li style=\"margin-top:20px;\"> Reproducible code </li>\n",
    "<li style=\"margin-top:20px;\"> Share data </li>\n",
    "</ul>\n",
    "\n"
   ]
  },
  {
   "cell_type": "markdown",
   "metadata": {
    "slideshow": {
     "slide_type": "subslide"
    }
   },
   "source": [
    "## Reproducible Code"
   ]
  },
  {
   "cell_type": "markdown",
   "metadata": {
    "slideshow": {
     "slide_type": "fragment"
    }
   },
   "source": [
    "<ul style=\"font-size:1.25em;\">\n",
    "<li style=\"margin-top:20px;\"> <span style=\"color:red;\">Code</span>: Should reproduce the results in 1 click (ideally!)</li>\n",
    "</ul>\n",
    "\n"
   ]
  },
  {
   "cell_type": "markdown",
   "metadata": {
    "slideshow": {
     "slide_type": "fragment"
    }
   },
   "source": [
    "<ul style=\"font-size:1.25em;\">\n",
    "<li style=\"margin-top:20px;\"> With explanatory <span style=\"color:orange;\">comments</span> </li>\n",
    "</ul>\n",
    "\n"
   ]
  },
  {
   "cell_type": "markdown",
   "metadata": {
    "slideshow": {
     "slide_type": "fragment"
    }
   },
   "source": [
    "<ul style=\"font-size:1.25em;\">\n",
    "<li style=\"margin-top:20px;\"> That can be <span style=\"color:green;\">interacted with</span></li>\n",
    "</ul>"
   ]
  },
  {
   "cell_type": "markdown",
   "metadata": {
    "slideshow": {
     "slide_type": "slide"
    }
   },
   "source": [
    "# The IPython Notebook"
   ]
  },
  {
   "cell_type": "markdown",
   "metadata": {
    "slideshow": {
     "slide_type": "fragment"
    }
   },
   "source": [
    "An <span style=\"color:green;\">interactive</span> <span style=\"color:red;\">computational environment</span> with <span style=\"color:orange;\">rich text comments</span>."
   ]
  },
  {
   "cell_type": "markdown",
   "metadata": {
    "slideshow": {
     "slide_type": "subslide"
    }
   },
   "source": [
    "## Computational Environment"
   ]
  },
  {
   "cell_type": "markdown",
   "metadata": {
    "slideshow": {
     "slide_type": "fragment"
    }
   },
   "source": [
    "<img src=\"./Figures/IpythonNotebookComputation.png\" alt=\"\" style=\"width: 85%;\"/>"
   ]
  },
  {
   "cell_type": "markdown",
   "metadata": {
    "slideshow": {
     "slide_type": "subslide"
    }
   },
   "source": [
    "## Rich Text Comments"
   ]
  },
  {
   "cell_type": "markdown",
   "metadata": {
    "slideshow": {
     "slide_type": "fragment"
    }
   },
   "source": [
    "<img src=\"./Figures/IpythonNotebookRichText.png\" alt=\"\" style=\"width: 85%;\"/>"
   ]
  },
  {
   "cell_type": "markdown",
   "metadata": {
    "slideshow": {
     "slide_type": "subslide"
    }
   },
   "source": [
    "## Interactive Computation"
   ]
  },
  {
   "cell_type": "markdown",
   "metadata": {
    "slideshow": {
     "slide_type": "fragment"
    }
   },
   "source": [
    "<img src=\"./Figures/IpythonNotebookInteraction.png\" alt=\"\" style=\"width: 75%;\"/>"
   ]
  },
  {
   "cell_type": "markdown",
   "metadata": {
    "slideshow": {
     "slide_type": "slide"
    }
   },
   "source": [
    "<h1 style=\"color:#FBB917\">So without further delay...</h1>"
   ]
  },
  {
   "cell_type": "markdown",
   "metadata": {
    "slideshow": {
     "slide_type": "fragment"
    }
   },
   "source": [
    "<h1 style=\"color:#1657FA;margin-left:150px;\">Introduction to IPython Notebook's features</h1>"
   ]
  }
 ],
 "metadata": {
  "celltoolbar": "Slideshow",
  "kernelspec": {
   "display_name": "Python 2",
   "language": "python",
   "name": "python2"
  },
  "language_info": {
   "codemirror_mode": {
    "name": "ipython",
    "version": 2
   },
   "file_extension": ".py",
   "mimetype": "text/x-python",
   "name": "python",
   "nbconvert_exporter": "python",
   "pygments_lexer": "ipython2",
   "version": "2.7.3"
  }
 },
 "nbformat": 4,
 "nbformat_minor": 0
}
