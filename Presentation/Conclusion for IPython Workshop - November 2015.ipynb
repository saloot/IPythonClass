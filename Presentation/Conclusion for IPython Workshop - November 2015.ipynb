{
 "cells": [
  {
   "cell_type": "markdown",
   "metadata": {
    "slideshow": {
     "slide_type": "slide"
    }
   },
   "source": [
    "## Concluding Remarks"
   ]
  },
  {
   "cell_type": "markdown",
   "metadata": {
    "slideshow": {
     "slide_type": "fragment"
    }
   },
   "source": [
    "#### Reproducibility is good!"
   ]
  },
  {
   "cell_type": "markdown",
   "metadata": {
    "slideshow": {
     "slide_type": "fragment"
    }
   },
   "source": [
    "#### IPython Notebooks provide a nice tool to facilitate reproducibility"
   ]
  },
  {
   "cell_type": "markdown",
   "metadata": {
    "slideshow": {
     "slide_type": "fragment"
    }
   },
   "source": [
    "#### Github+IPython Notebooks make sharing code super easy!\n",
    "* Also, do not forget Github pages"
   ]
  },
  {
   "cell_type": "markdown",
   "metadata": {
    "slideshow": {
     "slide_type": "fragment"
    }
   },
   "source": [
    "* You can also publish code now: Github + Arxiv = [GitXiv](http://gitxiv.com/)"
   ]
  },
  {
   "cell_type": "markdown",
   "metadata": {
    "slideshow": {
     "slide_type": "subslide"
    }
   },
   "source": [
    "## The Flow of Reproducibility"
   ]
  },
  {
   "cell_type": "raw",
   "metadata": {
    "slideshow": {
     "slide_type": "fragment"
    }
   },
   "source": [
    "<div style=\"width: 15%;margin-right:20px;float:left;margin-top:240px;\">\n",
    "<img src=\"./Figures/software.jpg\" alt=\"image from PhD Comics\" style=\"width: 100%;float:left\"/>\n",
    "</div>"
   ]
  },
  {
   "cell_type": "raw",
   "metadata": {
    "slideshow": {
     "slide_type": "fragment"
    }
   },
   "source": [
    "<div style=\"width: 7%;margin-left:165px;margin-top:250px;\">\n",
    "<img src=\"./Figures/plussign.png\" style=\"width: 100%;\"/>\n",
    "</div>"
   ]
  },
  {
   "cell_type": "raw",
   "metadata": {
    "slideshow": {
     "slide_type": "fragment"
    }
   },
   "source": [
    "<div style=\"width: 22%;margin-left:250px;margin-top:-125px;\">\n",
    "<img src=\"./Figures/ipython-thumb.png\" alt=\"image from PhD Comics\" style=\"width: 100%;\"/>\n",
    "</div>"
   ]
  },
  {
   "cell_type": "raw",
   "metadata": {
    "slideshow": {
     "slide_type": "fragment"
    }
   },
   "source": [
    "<div style=\"width: 7%;margin-left:470px;margin-top:-125px;\">\n",
    "<img src=\"./Figures/arrow_right.png\" style=\"width: 100%;\"/>\n",
    "</div>"
   ]
  },
  {
   "cell_type": "raw",
   "metadata": {
    "slideshow": {
     "slide_type": "fragment"
    }
   },
   "source": [
    "<div style=\"width: 20%;margin-left:550px;margin-top:-130px;\">\n",
    "<img src=\"./Figures/Octocat.png\" style=\"width: 100%;\"/>\n",
    "</div>"
   ]
  },
  {
   "cell_type": "raw",
   "metadata": {
    "slideshow": {
     "slide_type": "fragment"
    }
   },
   "source": [
    "<div style=\"width: 18%;margin-left:255px;margin-top:-370px;margin-bottom:125px;\">\n",
    "<img src=\"./Figures/science-paper.jpg\"  style=\"width: 100%;\"/>\n",
    "</div>"
   ]
  },
  {
   "cell_type": "raw",
   "metadata": {
    "slideshow": {
     "slide_type": "fragment"
    }
   },
   "source": [
    "<div style=\"width: 15%;margin-left:275px;margin-top:150;\">\n",
    "<img src=\"./Figures/database.png\" style=\"width: 100%;\"/>\n",
    "</div>"
   ]
  },
  {
   "cell_type": "raw",
   "metadata": {
    "slideshow": {
     "slide_type": "fragment"
    }
   },
   "source": [
    "<div style=\"width: 7%;margin-left:430px;margin-top:-410px;transform: rotate(30deg)\">\n",
    "<img src=\"./Figures/arrow_right.png\" style=\"width: 100%;\"/>\n",
    "</div>"
   ]
  },
  {
   "cell_type": "raw",
   "metadata": {
    "slideshow": {
     "slide_type": "fragment"
    }
   },
   "source": [
    "<div style=\"width: 7%;margin-left:430px;margin-top:180px;transform: rotate(-30deg)\">\n",
    "<img src=\"./Figures/arrow_right.png\" style=\"width: 100%;\"/>\n",
    "</div>"
   ]
  },
  {
   "cell_type": "raw",
   "metadata": {
    "slideshow": {
     "slide_type": "fragment"
    }
   },
   "source": [
    "<div style=\"width: 7%;margin-left:720px;margin-top:-200px;\">\n",
    "<img src=\"./Figures/arrow_right.png\" style=\"width: 100%;\"/>\n",
    "</div>"
   ]
  },
  {
   "cell_type": "raw",
   "metadata": {
    "slideshow": {
     "slide_type": "fragment"
    }
   },
   "source": [
    "<div style=\"width: 32%;margin-left:810px;margin-top:-200px;\">\n",
    "<img src=\"./Figures/share-science.png\" style=\"width: 100%;\"/>\n",
    "</div>"
   ]
  },
  {
   "cell_type": "markdown",
   "metadata": {
    "slideshow": {
     "slide_type": "slide"
    }
   },
   "source": [
    "## What is Next?"
   ]
  },
  {
   "cell_type": "markdown",
   "metadata": {
    "slideshow": {
     "slide_type": "fragment"
    }
   },
   "source": [
    "<ul>\n",
    "<li> Read more about IPython Notebooks</li>\n",
    "<ul>\n",
    "  <li>Lots of good resources on IPython Notebooks on the web!</li>\n",
    "  <li>We have added some links to the [course page](github.com/saloot/IPythonClass)</li>\n",
    "    </ul>\n",
    "</ul>"
   ]
  },
  {
   "cell_type": "markdown",
   "metadata": {
    "collapsed": true,
    "slideshow": {
     "slide_type": "fragment"
    }
   },
   "source": [
    "<ul>\n",
    "<li> Integrate other programming languages with <b><a href=\"http://jupyter.org/\">Project Jupyter</a></b></li>\n",
    "</ul>"
   ]
  },
  {
   "cell_type": "markdown",
   "metadata": {
    "slideshow": {
     "slide_type": "fragment"
    }
   },
   "source": [
    "<ul>\n",
    "<li> Run the code on a server to allow visitors/students experiment with your code</li>\n",
    "</ul>"
   ]
  },
  {
   "cell_type": "markdown",
   "metadata": {
    "slideshow": {
     "slide_type": "fragment"
    }
   },
   "source": [
    "<ul>\n",
    "<li> And maybe <span style=\"color:orange;\">create slides</span> using ipython notebooks!</li>\n",
    "</ul>"
   ]
  },
  {
   "cell_type": "markdown",
   "metadata": {
    "slideshow": {
     "slide_type": "slide"
    }
   },
   "source": [
    "\n",
    "<div style=\"margin-left:37%;\">\n",
    "<h3> That is all folks!</h3>\n",
    "</div>\n",
    "\n",
    "<div style=\"margin-left:25%;color:orange;\">\n",
    "<h1> Thanks a lot for your attention</h1>\n",
    "</div>"
   ]
  },
  {
   "cell_type": "markdown",
   "metadata": {
    "slideshow": {
     "slide_type": "fragment"
    }
   },
   "source": [
    "<div style=\"margin-left:30%;margin-top:25px;\">\n",
    "<p> All course materials will be available online at</p>\n",
    "<p><span style=\"color:blue;margin-left:7.5%;\">github.com/saloot/IPythonClass</span></p>\n",
    "</div>"
   ]
  },
  {
   "cell_type": "markdown",
   "metadata": {
    "slideshow": {
     "slide_type": "fragment"
    }
   },
   "source": [
    "<div style=\"margin-left:30%;margin-top:50px;\">\n",
    "<p style=\"font-size:1.5em;\"> Do not hesitate to contact us at</p>\n",
    "<p> <span style=\"color:#4AA02C;margin-left:13%\">robin.scheibler@epfl.ch</span></p>\n",
    "<p> <span style=\"color:#822DA1;margin-left:13%\">hesam.salavati@epfl.ch</span></p>\n",
    "</div>"
   ]
  }
 ],
 "metadata": {
  "celltoolbar": "Slideshow",
  "kernelspec": {
   "display_name": "Python 2",
   "language": "python",
   "name": "python2"
  },
  "language_info": {
   "codemirror_mode": {
    "name": "ipython",
    "version": 2
   },
   "file_extension": ".py",
   "mimetype": "text/x-python",
   "name": "python",
   "nbconvert_exporter": "python",
   "pygments_lexer": "ipython2",
   "version": "2.7.3"
  }
 },
 "nbformat": 4,
 "nbformat_minor": 0
}
